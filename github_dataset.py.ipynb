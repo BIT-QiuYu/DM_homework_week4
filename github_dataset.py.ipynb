{
 "cells": [
  {
   "cell_type": "markdown",
   "metadata": {},
   "source": [
    "<h1 style=\"text-align:center;vertical-align:middle\">数据挖掘第四周作业</h1>\n",
    "<h1 style=\"text-align:center;vertical-align:middle\">选用数据集GitHub Dataset</h1>\n",
    "<h3 style=\"text-align:center;vertical-align:middle\">1120193285  张秋雨 计算机学院计算机科学与技术专业07111908班</h3>\n",
    "\n",
    "## 数据概览\n"
   ]
  },
  {
   "cell_type": "code",
   "execution_count": 1,
   "metadata": {},
   "outputs": [],
   "source": [
    "import pandas as pd\n",
    "import numpy as np\n",
    "import github_dataset"
   ]
  },
  {
   "cell_type": "code",
   "execution_count": 2,
   "metadata": {},
   "outputs": [
    {
     "data": {
      "text/plain": [
       "Index(['repositories', 'stars_count', 'forks_count', 'issues_count',\n",
       "       'pull_requests', 'contributors', 'language'],\n",
       "      dtype='object')"
      ]
     },
     "execution_count": 2,
     "metadata": {},
     "output_type": "execute_result"
    }
   ],
   "source": [
    "github_dataset.show_col()"
   ]
  },
  {
   "cell_type": "markdown",
   "metadata": {},
   "source": [
    "每行数据包括7个列，分别代表：\n",
    "\n",
    "- **repositories** 数据仓库。\n",
    "- **stars_count** 星星数量\n",
    "- **forks_count** fork的数量\n",
    "- **issues_count** 事件的计数\n",
    "- **pull_requests** 提交请求的数量\n",
    "- **contributors** 贡献者数量\n",
    "- **language** 使用的语言\n",
    "\n",
    "接下来的内容将对以上属性中的数值属性，有意义的非唯一标称属性，以及可推导获得的有意义的属性进行数据分析与预处理。"
   ]
  },
  {
   "cell_type": "markdown",
   "metadata": {},
   "source": [
    "### 1 repositories (无缺失值)"
   ]
  },
  {
   "cell_type": "code",
   "execution_count": 3,
   "metadata": {},
   "outputs": [],
   "source": [
    "helper = github_dataset.col_helper()"
   ]
  },
  {
   "cell_type": "code",
   "execution_count": 4,
   "metadata": {
    "scrolled": true
   },
   "outputs": [
    {
     "name": "stdout",
     "output_type": "stream",
     "text": [
      "0\n"
     ]
    }
   ],
   "source": [
    "helper.select_col('repositories')\n",
    "# 缺失值个数\n",
    "n_b = helper.count_none()"
   ]
  },
  {
   "cell_type": "markdown",
   "metadata": {},
   "source": [
    "没有缺失值"
   ]
  },
  {
   "cell_type": "markdown",
   "metadata": {},
   "source": [
    "### 2 stars_count (无缺失值)\n"
   ]
  },
  {
   "cell_type": "code",
   "execution_count": 5,
   "metadata": {},
   "outputs": [],
   "source": [
    "helper.select_col('stars_count')"
   ]
  },
  {
   "cell_type": "code",
   "execution_count": 6,
   "metadata": {},
   "outputs": [
    {
     "name": "stdout",
     "output_type": "stream",
     "text": [
      "0\n"
     ]
    },
    {
     "data": {
      "text/plain": [
       "0"
      ]
     },
     "execution_count": 6,
     "metadata": {},
     "output_type": "execute_result"
    }
   ],
   "source": [
    "helper.count_none('')"
   ]
  },
  {
   "cell_type": "markdown",
   "metadata": {},
   "source": [
    "没有缺失值"
   ]
  },
  {
   "cell_type": "markdown",
   "metadata": {},
   "source": [
    "**数据摘要**"
   ]
  },
  {
   "cell_type": "code",
   "execution_count": 7,
   "metadata": {},
   "outputs": [
    {
     "name": "stdout",
     "output_type": "stream",
     "text": [
      "Min: 0\n",
      "Q1: 1.0\n",
      "Q2: 12.0\n",
      "Q3: 65.25\n",
      "Max: 995\n"
     ]
    }
   ],
   "source": [
    "# 五数概括\n",
    "helper.five_number()"
   ]
  },
  {
   "cell_type": "markdown",
   "metadata": {},
   "source": [
    "**数据分布**"
   ]
  },
  {
   "cell_type": "code",
   "execution_count": 8,
   "metadata": {},
   "outputs": [
    {
     "name": "stdout",
     "output_type": "stream",
     "text": [
      "[  0 271   0 ...   0  11   4]\n"
     ]
    },
    {
     "data": {
      "image/png": "[encoded data removed]",
      "text/plain": [
       "<Figure size 1152x288 with 1 Axes>"
      ]
     },
     "metadata": {
      "needs_background": "light"
     },
     "output_type": "display_data"
    },
    {
     "name": "stdout",
     "output_type": "stream",
     "text": [
      "161.625\n"
     ]
    }
   ],
   "source": [
    "# 盒图\n",
    "helper.box(16,4,'stars_count')"
   ]
  },
  {
   "cell_type": "code",
   "execution_count": 9,
   "metadata": {},
   "outputs": [
    {
     "data": {
      "image/png": "[encoded data removed]",
      "text/plain": [
       "<Figure size 1152x288 with 1 Axes>"
      ]
     },
     "metadata": {
      "needs_background": "light"
     },
     "output_type": "display_data"
    }
   ],
   "source": [
    "# 直方图\n",
    "helper.normal_hist(16,4,'stars_count','value')"
   ]
  },
  {
   "cell_type": "markdown",
   "metadata": {},
   "source": [
    "从盒图和直方图可以看出，大多数的仓库都没有星星数量"
   ]
  },
  {
   "cell_type": "markdown",
   "metadata": {},
   "source": [
    "### 3 forks_count (无缺失值)\n",
    "\n"
   ]
  },
  {
   "cell_type": "code",
   "execution_count": 10,
   "metadata": {},
   "outputs": [],
   "source": [
    "helper.select_col('forks_count')"
   ]
  },
  {
   "cell_type": "code",
   "execution_count": 11,
   "metadata": {},
   "outputs": [
    {
     "name": "stdout",
     "output_type": "stream",
     "text": [
      "0\n"
     ]
    },
    {
     "data": {
      "text/plain": [
       "0"
      ]
     },
     "execution_count": 11,
     "metadata": {},
     "output_type": "execute_result"
    }
   ],
   "source": [
    "helper.count_none('')"
   ]
  },
  {
   "cell_type": "markdown",
   "metadata": {},
   "source": [
    "没有缺失值"
   ]
  },
  {
   "cell_type": "markdown",
   "metadata": {},
   "source": [
    "**数据摘要**"
   ]
  },
  {
   "cell_type": "code",
   "execution_count": 12,
   "metadata": {},
   "outputs": [
    {
     "name": "stdout",
     "output_type": "stream",
     "text": [
      "Min: 0\n",
      "Q1: 1.0\n",
      "Q2: 6.0\n",
      "Q3: 38.25\n",
      "Max: 973\n"
     ]
    }
   ],
   "source": [
    "# 五数概括\n",
    "helper.five_number()"
   ]
  },
  {
   "cell_type": "markdown",
   "metadata": {},
   "source": [
    "**数据分布**"
   ]
  },
  {
   "cell_type": "code",
   "execution_count": 13,
   "metadata": {},
   "outputs": [
    {
     "name": "stdout",
     "output_type": "stream",
     "text": [
      "[  0 150   0 ...   5   5   3]\n"
     ]
    },
    {
     "data": {
      "image/png": "[encoded data removed]",
      "text/plain": [
       "<Figure size 1152x288 with 1 Axes>"
      ]
     },
     "metadata": {
      "needs_background": "light"
     },
     "output_type": "display_data"
    },
    {
     "name": "stdout",
     "output_type": "stream",
     "text": [
      "94.125\n"
     ]
    }
   ],
   "source": [
    "# 盒图\n",
    "helper.box(16,4,'forks_count')"
   ]
  },
  {
   "cell_type": "code",
   "execution_count": 14,
   "metadata": {},
   "outputs": [
    {
     "data": {
      "image/png": "[encoded data removed]",
      "text/plain": [
       "<Figure size 1152x288 with 1 Axes>"
      ]
     },
     "metadata": {
      "needs_background": "light"
     },
     "output_type": "display_data"
    }
   ],
   "source": [
    "# 直方图\n",
    "helper.normal_hist(16,4,'forks_count','value')"
   ]
  },
  {
   "cell_type": "markdown",
   "metadata": {},
   "source": [
    "从盒图和直方图可以看出，大多数的仓库都没有fork数量"
   ]
  },
  {
   "cell_type": "markdown",
   "metadata": {},
   "source": [
    "### 4 issues_count(无缺失值)"
   ]
  },
  {
   "cell_type": "code",
   "execution_count": 15,
   "metadata": {},
   "outputs": [],
   "source": [
    "helper.select_col('issues_count')"
   ]
  },
  {
   "cell_type": "code",
   "execution_count": 16,
   "metadata": {},
   "outputs": [
    {
     "name": "stdout",
     "output_type": "stream",
     "text": [
      "0\n"
     ]
    },
    {
     "data": {
      "text/plain": [
       "0"
      ]
     },
     "execution_count": 16,
     "metadata": {},
     "output_type": "execute_result"
    }
   ],
   "source": [
    "helper.count_none() #无缺失值"
   ]
  },
  {
   "cell_type": "markdown",
   "metadata": {},
   "source": [
    "没有缺失值"
   ]
  },
  {
   "cell_type": "markdown",
   "metadata": {},
   "source": [
    "**数据摘要**"
   ]
  },
  {
   "cell_type": "code",
   "execution_count": 17,
   "metadata": {},
   "outputs": [
    {
     "name": "stdout",
     "output_type": "stream",
     "text": [
      "Min: 1\n",
      "Q1: 1.0\n",
      "Q2: 2.0\n",
      "Q3: 6.0\n",
      "Max: 612\n"
     ]
    }
   ],
   "source": [
    "# 五数概括\n",
    "helper.five_number()"
   ]
  },
  {
   "cell_type": "markdown",
   "metadata": {},
   "source": [
    "**数据分布**"
   ]
  },
  {
   "cell_type": "code",
   "execution_count": 18,
   "metadata": {},
   "outputs": [
    {
     "name": "stdout",
     "output_type": "stream",
     "text": [
      "[612 536 313 ...   1   1   1]\n"
     ]
    },
    {
     "data": {
      "image/png": "[encoded data removed]",
      "text/plain": [
       "<Figure size 1152x288 with 1 Axes>"
      ]
     },
     "metadata": {
      "needs_background": "light"
     },
     "output_type": "display_data"
    },
    {
     "name": "stdout",
     "output_type": "stream",
     "text": [
      "13.5\n"
     ]
    }
   ],
   "source": [
    "# 盒图\n",
    "helper.box(16,4,'issues_count')"
   ]
  },
  {
   "cell_type": "code",
   "execution_count": 19,
   "metadata": {
    "scrolled": true
   },
   "outputs": [
    {
     "data": {
      "image/png": "[encoded data removed]",
      "text/plain": [
       "<Figure size 1152x288 with 1 Axes>"
      ]
     },
     "metadata": {
      "needs_background": "light"
     },
     "output_type": "display_data"
    }
   ],
   "source": [
    "# 直方图\n",
    "helper.normal_hist(16,4,'issues_count','value')"
   ]
  },
  {
   "cell_type": "markdown",
   "metadata": {},
   "source": [
    "从盒图和直方图可以看出，大多数的仓库的issue数量均为1."
   ]
  },
  {
   "cell_type": "markdown",
   "metadata": {},
   "source": [
    "### 5 pull_requests(无缺失值)\n"
   ]
  },
  {
   "cell_type": "code",
   "execution_count": 20,
   "metadata": {},
   "outputs": [],
   "source": [
    "helper.select_col('pull_requests')"
   ]
  },
  {
   "cell_type": "code",
   "execution_count": 21,
   "metadata": {},
   "outputs": [
    {
     "name": "stdout",
     "output_type": "stream",
     "text": [
      "0\n"
     ]
    },
    {
     "data": {
      "text/plain": [
       "0"
      ]
     },
     "execution_count": 21,
     "metadata": {},
     "output_type": "execute_result"
    }
   ],
   "source": [
    "helper.count_none()"
   ]
  },
  {
   "cell_type": "markdown",
   "metadata": {},
   "source": [
    "无缺失值\n",
    "  "
   ]
  },
  {
   "cell_type": "markdown",
   "metadata": {},
   "source": [
    "**数据摘要**\n",
    "  "
   ]
  },
  {
   "cell_type": "code",
   "execution_count": 22,
   "metadata": {},
   "outputs": [
    {
     "name": "stdout",
     "output_type": "stream",
     "text": [
      "Min: 0\n",
      "Q1: 0.0\n",
      "Q2: 0.0\n",
      "Q3: 2.0\n",
      "Max: 567\n"
     ]
    }
   ],
   "source": [
    "# 五数概括\n",
    "helper.five_number()"
   ]
  },
  {
   "cell_type": "markdown",
   "metadata": {},
   "source": [
    "**数据分布**\n",
    "  "
   ]
  },
  {
   "cell_type": "code",
   "execution_count": 23,
   "metadata": {},
   "outputs": [
    {
     "name": "stdout",
     "output_type": "stream",
     "text": [
      "[316   6  27 ...   1   0   0]\n"
     ]
    },
    {
     "data": {
      "image/png": "[encoded data removed]",
      "text/plain": [
       "<Figure size 1152x288 with 1 Axes>"
      ]
     },
     "metadata": {
      "needs_background": "light"
     },
     "output_type": "display_data"
    },
    {
     "name": "stdout",
     "output_type": "stream",
     "text": [
      "5.0\n"
     ]
    }
   ],
   "source": [
    "# 盒图\n",
    "helper.box(16,4,'pull_requests')"
   ]
  },
  {
   "cell_type": "code",
   "execution_count": 24,
   "metadata": {},
   "outputs": [
    {
     "data": {
      "image/png": "[encoded data removed]",
      "text/plain": [
       "<Figure size 1152x288 with 1 Axes>"
      ]
     },
     "metadata": {
      "needs_background": "light"
     },
     "output_type": "display_data"
    }
   ],
   "source": [
    "# 直方图\n",
    "helper.normal_hist(16,4,'pull_requests','value')"
   ]
  },
  {
   "cell_type": "markdown",
   "metadata": {},
   "source": [
    "从盒图和直方图可以看出，几乎所有的仓库的pull_requests数量均小于100."
   ]
  },
  {
   "cell_type": "markdown",
   "metadata": {},
   "source": [
    "### 6 contributors(无缺失值)\n"
   ]
  },
  {
   "cell_type": "code",
   "execution_count": 25,
   "metadata": {},
   "outputs": [],
   "source": [
    "helper.select_col('contributors')"
   ]
  },
  {
   "cell_type": "code",
   "execution_count": 26,
   "metadata": {},
   "outputs": [
    {
     "name": "stdout",
     "output_type": "stream",
     "text": [
      "0\n"
     ]
    },
    {
     "data": {
      "text/plain": [
       "0"
      ]
     },
     "execution_count": 26,
     "metadata": {},
     "output_type": "execute_result"
    }
   ],
   "source": [
    "helper.count_none()"
   ]
  },
  {
   "cell_type": "markdown",
   "metadata": {},
   "source": [
    "无缺失值\n",
    "  "
   ]
  },
  {
   "cell_type": "markdown",
   "metadata": {},
   "source": [
    "**数据摘要**\n",
    "  "
   ]
  },
  {
   "cell_type": "code",
   "execution_count": 27,
   "metadata": {},
   "outputs": [
    {
     "name": "stdout",
     "output_type": "stream",
     "text": [
      "Min: 0\n",
      "Q1: 0.0\n",
      "Q2: 2.0\n",
      "Q3: 4.0\n",
      "Max: 658\n"
     ]
    }
   ],
   "source": [
    "# 五数概括\n",
    "helper.five_number()"
   ]
  },
  {
   "cell_type": "markdown",
   "metadata": {},
   "source": [
    "**数据分布**\n",
    "  "
   ]
  },
  {
   "cell_type": "code",
   "execution_count": 28,
   "metadata": {},
   "outputs": [
    {
     "name": "stdout",
     "output_type": "stream",
     "text": [
      "[  2  71 154 ...   7   0   0]\n"
     ]
    },
    {
     "data": {
      "image/png": "[encoded data removed]",
      "text/plain": [
       "<Figure size 1152x288 with 1 Axes>"
      ]
     },
     "metadata": {
      "needs_background": "light"
     },
     "output_type": "display_data"
    },
    {
     "name": "stdout",
     "output_type": "stream",
     "text": [
      "10.0\n"
     ]
    }
   ],
   "source": [
    "# 盒图\n",
    "helper.box(16,4,'contributors')"
   ]
  },
  {
   "cell_type": "code",
   "execution_count": 29,
   "metadata": {},
   "outputs": [
    {
     "data": {
      "image/png": "[encoded data removed]",
      "text/plain": [
       "<Figure size 1152x288 with 1 Axes>"
      ]
     },
     "metadata": {
      "needs_background": "light"
     },
     "output_type": "display_data"
    }
   ],
   "source": [
    "# 直方图\n",
    "helper.normal_hist(16,4,'contributors','value')"
   ]
  },
  {
   "cell_type": "markdown",
   "metadata": {},
   "source": [
    "从盒图和直方图可以看出，几乎所有的仓库的contributors数量均小于100."
   ]
  },
  {
   "cell_type": "markdown",
   "metadata": {},
   "source": [
    "### 7 使用的语言(有缺失值)\n"
   ]
  },
  {
   "cell_type": "code",
   "execution_count": 30,
   "metadata": {},
   "outputs": [],
   "source": [
    "helper.select_col('language')"
   ]
  },
  {
   "cell_type": "code",
   "execution_count": 31,
   "metadata": {},
   "outputs": [
    {
     "name": "stdout",
     "output_type": "stream",
     "text": [
      "145\n"
     ]
    },
    {
     "data": {
      "text/plain": [
       "145"
      ]
     },
     "execution_count": 31,
     "metadata": {},
     "output_type": "execute_result"
    }
   ],
   "source": [
    "helper.count_none()"
   ]
  },
  {
   "cell_type": "markdown",
   "metadata": {},
   "source": [
    "**有145个仓库对应的语言是NULL**\n",
    "  "
   ]
  },
  {
   "cell_type": "markdown",
   "metadata": {},
   "source": [
    "**数据分布**\n",
    "  "
   ]
  },
  {
   "cell_type": "code",
   "execution_count": 32,
   "metadata": {},
   "outputs": [
    {
     "data": {
      "text/plain": [
       "JavaScript          253\n",
       "Python              155\n",
       "NULL                145\n",
       "HTML                 72\n",
       "Java                 44\n",
       "CSS                  37\n",
       "TypeScript           37\n",
       "Dart                 36\n",
       "Jupyter Notebook     29\n",
       "C++                  29\n",
       "Ruby                 28\n",
       "C                    26\n",
       "Shell                25\n",
       "PHP                  16\n",
       "Go                   15\n",
       "Swift                10\n",
       "Rust                 10\n",
       "C#                    8\n",
       "Objective-C           8\n",
       "Kotlin                7\n",
       "Makefile              6\n",
       "Jinja                 5\n",
       "SCSS                  4\n",
       "AutoHotkey            3\n",
       "Dockerfile            3\n",
       "CoffeeScript          3\n",
       "Perl                  3\n",
       "Solidity              3\n",
       "Vim Script            2\n",
       "Pawn                  2\n",
       "Assembly              2\n",
       "PowerShell            2\n",
       "Hack                  2\n",
       "CodeQL                2\n",
       "Vue                   2\n",
       "Elixir                2\n",
       "Gherkin               1\n",
       "QMake                 1\n",
       "CMake                 1\n",
       "Oz                    1\n",
       "Cuda                  1\n",
       "QML                   1\n",
       "ActionScript          1\n",
       "Roff                  1\n",
       "HCL                   1\n",
       "R                     1\n",
       "PureBasic             1\n",
       "Smarty                1\n",
       "Less                  1\n",
       "Svelte                1\n",
       "Haskell               1\n",
       "SourcePawn            1\n",
       "Name: language, dtype: int64"
      ]
     },
     "execution_count": 32,
     "metadata": {},
     "output_type": "execute_result"
    }
   ],
   "source": [
    "helper.data['language'].value_counts()"
   ]
  },
  {
   "cell_type": "code",
   "execution_count": 33,
   "metadata": {},
   "outputs": [
    {
     "data": {
      "image/png": "[encoded data removed]",
      "text/plain": [
       "<Figure size 3240x432 with 1 Axes>"
      ]
     },
     "metadata": {
      "needs_background": "light"
     },
     "output_type": "display_data"
    }
   ],
   "source": [
    "helper.hist_bar(45,6,20)"
   ]
  },
  {
   "cell_type": "markdown",
   "metadata": {},
   "source": [
    "部分仓库的语言数据存在缺失值，推测原因是在数据记录时出错，因为一个代码仓库不能没有使用的语言，因此可以推测是数据收集以及整理过程中就已经出现了问题。这里可以进行缺失值的处理方式有以下几种：\n",
    "\n",
    "删除所有缺失数据： 因为缺失值个数和不是很多，直接删除应该影响并不能对后续的数据分析造成不可逆的影响。\n",
    "\n",
    "将缺失数据用频率最高的值代替：  JavaScript，可用该语言进行填充。\n",
    "\n",
    "利用数据对象的相关性进行填补\n",
    "\n",
    "利用属性的相关性进行填补\n",
    "\n",
    "此处由于仓库的各种数据指标无法与所使用的的语言进行关联，所以这里使用直接删除的方式。"
   ]
  },
  {
   "cell_type": "code",
   "execution_count": 34,
   "metadata": {},
   "outputs": [
    {
     "name": "stdout",
     "output_type": "stream",
     "text": [
      "[array(['octocat/Hello-World', 0, 0, 612, 316, 2, 'NULL'], dtype=object), array(['EddieHubCommunity/support', 271, 150, 536, 6, 71, 'NULL'],\n",
      "      dtype=object), array(['taniarascia/comments', 4, 0, 117, 0, 0, 'NULL'], dtype=object), array(['florinpop17/app-ideas', 0, 0, 46, 235, 68, 'NULL'], dtype=object), array(['education/teachers', 176, 28, 39, 0, 2, 'NULL'], dtype=object), array(['octocat/hello-worId', 176, 114, 35, 9, 0, 'NULL'], dtype=object), array(['anuraghazra/anuraghazra', 228, 0, 33, 4, 3, 'NULL'], dtype=object), array(['WhiteHouse/api-standards', 0, 910, 27, 7, 12, 'NULL'],\n",
      "      dtype=object), array(['offensive-security/kali-nethunter', 0, 897, 26, 3, 33, 'NULL'],\n",
      "      dtype=object), array(['octocat/git-consortium', 135, 67, 25, 10, 0, 'NULL'], dtype=object), array(['benawad/astral-bugs', 42, 1, 18, 0, 0, 'NULL'], dtype=object), array(['openfoodfacts/offf', 0, 0, 16, 0, 0, 'NULL'], dtype=object), array(['offensive-security/nethunter-app', 281, 159, 16, 2, 22, 'NULL'],\n",
      "      dtype=object), array(['florinpop17/100Days100Projects', 430, 69, 16, 1, 0, 'NULL'],\n",
      "      dtype=object), array(['stemount/cloutbot', 5, 2, 14, 2, 0, 'NULL'], dtype=object), array(['offensive-security/nethunter-devices', 217, 207, 13, 3, 30,\n",
      "       'NULL'], dtype=object), array(['offensive-security/kali-arm-build-scripts', 805, 397, 13, 1, 13,\n",
      "       'NULL'], dtype=object), array(['WhiteHouse/ndoch-hackathon', 16, 14, 12, 1, 0, 'NULL'],\n",
      "      dtype=object), array(['iamshaunjp/Complete-React-Tutorial', 995, 0, 11, 7, 0, 'NULL'],\n",
      "      dtype=object), array(['iamshaunjp/Complete-React-Tutorial', 995, 0, 11, 7, 0, 'NULL'],\n",
      "      dtype=object), array(['localstack/cockpit', 12, 0, 10, 0, 2, 'NULL'], dtype=object), array(['stemount/automated-cloud-radio-station', 8, 1, 10, 0, 0, 'NULL'],\n",
      "      dtype=object), array(['jakearchibald/byte-storage', 40, 2, 10, 0, 2, 'NULL'],\n",
      "      dtype=object), array(['mrdbourke/machine-learning-roadmap', 0, 0, 10, 1, 0, 'NULL'],\n",
      "      dtype=object), array(['education/GitHubGraduation-2022', 0, 0, 9, 484, 0, 'NULL'],\n",
      "      dtype=object), array(['iamshaunjp/firegram', 286, 237, 9, 2, 0, 'NULL'], dtype=object), array(['iamshaunjp/firegram', 286, 237, 9, 2, 0, 'NULL'], dtype=object), array(['cheeaun/ama', 11, 634, 9, 0, 0, 'NULL'], dtype=object), array(['QAInsights/apache-jmeter', 1, 0, 8, 0, 0, 'NULL'], dtype=object), array(['openfoodfacts/folksonomy_engine', 2, 1, 7, 0, 2, 'NULL'],\n",
      "      dtype=object), array(['offensive-security/nethunter-LRT', 289, 94, 7, 2, 7, 'NULL'],\n",
      "      dtype=object), array(['taranjeet/code-snippets', 4, 1, 6, 0, 0, 'NULL'], dtype=object), array(['offensive-security/kali-cloud-build', 90, 135, 6, 1, 0, 'NULL'],\n",
      "      dtype=object), array(['kdeldycke/kdeldycke', 2, 3, 6, 0, 2, 'NULL'], dtype=object), array(['jishanshaikh4/cryptography-roadmap', 24, 5, 6, 0, 0, 'NULL'],\n",
      "      dtype=object), array(['varunKT001/testing-github-templates', 1, 0, 6, 0, 0, 'NULL'],\n",
      "      dtype=object), array(['EddieHubCommunity/template', 6, 10, 6, 1, 10, 'NULL'],\n",
      "      dtype=object), array(['iamshaunjp/django-playlist', 162, 186, 6, 5, 0, 'NULL'],\n",
      "      dtype=object), array(['iamshaunjp/django-playlist', 162, 186, 6, 5, 0, 'NULL'],\n",
      "      dtype=object), array(['WhiteHouse/drushsubtree', 11, 10, 5, 1, 4, 'NULL'], dtype=object), array(['Chirag321ratvekar/docker-project', 0, 0, 5, 0, 0, 'NULL'],\n",
      "      dtype=object), array(['iamshaunjp/firebase-auth', 329, 355, 5, 9, 0, 'NULL'],\n",
      "      dtype=object), array(['iamshaunjp/firebase-auth', 329, 355, 5, 9, 0, 'NULL'],\n",
      "      dtype=object), array(['EddieHubCommunity/hacktoberfest-practice', 292, 0, 4, 36, 0,\n",
      "       'NULL'], dtype=object), array(['iamshaunjp/css-grid-layouts', 51, 23, 4, 0, 0, 'NULL'],\n",
      "      dtype=object), array(['education/hackconviii', 15, 9, 4, 0, 0, 'NULL'], dtype=object), array(['iamshaunjp/css-grid-layouts', 51, 23, 4, 0, 0, 'NULL'],\n",
      "      dtype=object), array(['defuse/airgap', 26, 2, 4, 0, 0, 'NULL'], dtype=object), array(['sagesharp/python-code-of-conduct', 2, 103, 4, 0, 0, 'NULL'],\n",
      "      dtype=object), array(['iamshaunjp/firebase-firestore-playlist', 274, 303, 3, 4, 0,\n",
      "       'NULL'], dtype=object), array(['ethereum/beacon-metrics', 19, 14, 3, 0, 6, 'NULL'], dtype=object), array(['xoreaxeaxeax/..cantor.dust..', 33, 0, 3, 0, 0, 'NULL'],\n",
      "      dtype=object), array(['aviaryan/Ahk-Best-Practices', 30, 5, 3, 0, 2, 'NULL'],\n",
      "      dtype=object), array(['taniarascia/new-moon-vscode', 85, 10, 3, 1, 3, 'NULL'],\n",
      "      dtype=object), array(['google/.github', 70, 153, 3, 3, 4, 'NULL'], dtype=object), array(['iamshaunjp/firebase-firestore-playlist', 274, 303, 3, 4, 0,\n",
      "       'NULL'], dtype=object), array(['vicky002/1000_Projects', 0, 298, 3, 1, 4, 'NULL'], dtype=object), array(['education/github-starter-course', 41, 25, 3, 0, 5, 'NULL'],\n",
      "      dtype=object), array(['offensive-security/kali-linux-preseed', 42, 26, 3, 0, 0, 'NULL'],\n",
      "      dtype=object), array(['offensive-security/cryptsetup-nuke-keys', 188, 63, 3, 7, 0,\n",
      "       'NULL'], dtype=object), array(['zemse/awesome-decentralized-finance', 8, 268, 2, 0, 0, 'NULL'],\n",
      "      dtype=object), array(['tapaswenipathak/Bot-list', 0, 0, 2, 0, 2, 'NULL'], dtype=object), array(['feross/awesome-mad-science', 0, 68, 2, 9, 17, 'NULL'],\n",
      "      dtype=object), array(['Anurag5086/MentHealth', 4, 4, 2, 0, 2, 'NULL'], dtype=object), array(['eddiejaoude/ANT-Project-Deployment-Tool', 2, 0, 2, 0, 0, 'NULL'],\n",
      "      dtype=object), array(['arogozhnikov/python3_with_pleasure', 0, 204, 2, 1, 14, 'NULL'],\n",
      "      dtype=object), array(['ethereum/annotated-spec', 231, 45, 2, 3, 11, 'NULL'], dtype=object), array(['iamshaunjp/data-ui-with-d3-firebase', 162, 151, 2, 0, 0, 'NULL'],\n",
      "      dtype=object), array(['iamshaunjp/flutter-animations', 90, 76, 2, 0, 0, 'NULL'],\n",
      "      dtype=object), array(['Orbiter/MetaGer', 749, 0, 2, 0, 2, 'NULL'], dtype=object), array(['iamshaunjp/Customizing-Bootstrap-5', 21, 7, 2, 0, 0, 'NULL'],\n",
      "      dtype=object), array(['iamshaunjp/CSS-Tips-and-Tricks', 60, 52, 2, 1, 0, 'NULL'],\n",
      "      dtype=object), array(['Anurag5086/MentHealth', 4, 4, 2, 0, 2, 'NULL'], dtype=object), array(['LiveOverflow/ctf', 13, 4, 2, 0, 0, 'NULL'], dtype=object), array(['iamshaunjp/bootstrap-5-tutorial', 146, 148, 2, 1, 0, 'NULL'],\n",
      "      dtype=object), array(['iamshaunjp/complete-sass-tutorial', 121, 110, 2, 1, 0, 'NULL'],\n",
      "      dtype=object), array(['iamshaunjp/data-ui-with-d3-firebase', 162, 151, 2, 0, 0, 'NULL'],\n",
      "      dtype=object), array(['iamshaunjp/Customizing-Bootstrap-5', 21, 7, 2, 0, 0, 'NULL'],\n",
      "      dtype=object), array(['iamshaunjp/CSS-Tips-and-Tricks', 60, 52, 2, 1, 0, 'NULL'],\n",
      "      dtype=object), array(['iamshaunjp/complete-sass-tutorial', 121, 110, 2, 1, 0, 'NULL'],\n",
      "      dtype=object), array(['iamshaunjp/bootstrap-5-tutorial', 146, 148, 2, 1, 0, 'NULL'],\n",
      "      dtype=object), array(['dcbuild3r/blockchain-development-guide', 0, 118, 2, 0, 13, 'NULL'],\n",
      "      dtype=object), array(['taranjeet/everything-else', 0, 0, 2, 0, 0, 'NULL'], dtype=object), array(['jasineri/gitartwork', 183, 32, 2, 5, 3, 'NULL'], dtype=object), array(['iamshaunjp/flutter-animations', 90, 76, 2, 0, 0, 'NULL'],\n",
      "      dtype=object), array(['avikalpg/github-profile', 2, 1, 2, 1, 0, 'NULL'], dtype=object), array(['Vectorized/Solidity-Code-Reviews', 1, 0, 1, 3, 0, 'NULL'],\n",
      "      dtype=object), array(['K-avin/movie-streaming-app', 0, 0, 1, 0, 0, 'NULL'], dtype=object), array(['stemount/community', 0, 0, 1, 0, 0, 'NULL'], dtype=object), array(['Anuj-Kumar-Sharma/First-Contribution', 17, 0, 1, 567, 4, 'NULL'],\n",
      "      dtype=object), array(['QAInsights/.new-shortcuts-domain-list', 7, 2, 1, 1, 0, 'NULL'],\n",
      "      dtype=object), array(['kunal-kushwaha/16JanGitWorkshop', 0, 0, 1, 0, 0, 'NULL'],\n",
      "      dtype=object), array(['QAInsights/Academy-Discussions', 1, 0, 1, 0, 0, 'NULL'],\n",
      "      dtype=object), array(['IonicaBizau/ama', 17, 3, 1, 0, 3, 'NULL'], dtype=object), array(['gunnarmorling/awesome-opensource-data-engineering', 790, 144, 1,\n",
      "       1, 20, 'NULL'], dtype=object), array(['PoojaB26/AwesomeFlutterPlaylist', 339, 110, 1, 0, 3, 'NULL'],\n",
      "      dtype=object), array(['Daniel-Bessa/NavMenu', 0, 0, 1, 0, 0, 'NULL'], dtype=object), array(['codingkush/github-upload', 0, 0, 1, 0, 0, 'NULL'], dtype=object), array(['shradha-khapra/Apni-Kaksha-Demo-Tasks', 7, 21, 1, 9, 3, 'NULL'],\n",
      "      dtype=object), array(['douglascrockford/Programma', 99, 15, 1, 0, 0, 'NULL'],\n",
      "      dtype=object), array(['Mitesh411/apache-jmeter', 0, 0, 1, 0, 0, 'NULL'], dtype=object), array(['LiveOverflow/CTFnotes', 5, 1, 1, 0, 0, 'NULL'], dtype=object), array(['iamakshat01/markdown-portfolio', 0, 0, 1, 0, 4, 'NULL'],\n",
      "      dtype=object), array(['PremChapagain/premchapagain', 39, 9, 1, 2, 0, 'NULL'],\n",
      "      dtype=object), array(['ankushKun/ankushKun', 4, 8, 1, 0, 2, 'NULL'], dtype=object), array(['jasineri/jasineri', 28, 37, 1, 0, 0, 'NULL'], dtype=object), array(['jasineri/useful-commands', 22, 2, 1, 0, 2, 'NULL'], dtype=object), array(['kdeldycke/awesome-falsehood', 0, 469, 1, 1, 32, 'NULL'],\n",
      "      dtype=object), array(['newwebash/portfolio-boilerplate', 0, 0, 1, 0, 0, 'NULL'],\n",
      "      dtype=object), array(['EddieHubCommunity/gh-action-open-source-labels', 16, 18, 1, 0, 10,\n",
      "       'NULL'], dtype=object), array(['sagesharp/code-of-conduct-template', 12, 9, 1, 0, 8, 'NULL'],\n",
      "      dtype=object), array(['openfoodfacts/.github', 0, 2, 1, 1, 3, 'NULL'], dtype=object), array(['openfoodfacts/bio-codes', 0, 1, 1, 0, 0, 'NULL'], dtype=object), array(['openfoodfacts/egg-codes', 1, 1, 1, 0, 0, 'NULL'], dtype=object), array(['iamshaunjp/bootstrap-4-playlist', 66, 90, 1, 2, 0, 'NULL'],\n",
      "      dtype=object), array(['iamshaunjp/complete-mongodb', 47, 9, 1, 1, 0, 'NULL'],\n",
      "      dtype=object), array(['iamshaunjp/firestore-pagination-tutorial', 19, 16, 1, 0, 0,\n",
      "       'NULL'], dtype=object), array(['KrauseFx/engagement-enhancer', 3, 0, 1, 0, 0, 'NULL'],\n",
      "      dtype=object), array(['stong/infosec-resources', 799, 72, 1, 0, 3, 'NULL'], dtype=object), array(['KrauseFx/certs', 7, 0, 1, 0, 0, 'NULL'], dtype=object), array(['meenal21/markdown-portfolio', 0, 0, 1, 0, 2, 'NULL'], dtype=object), array(['iamshaunjp/complete-mongodb', 47, 9, 1, 1, 0, 'NULL'],\n",
      "      dtype=object), array(['5cientist/5cientist', 2, 0, 1, 0, 0, 'NULL'], dtype=object), array(['iamshaunjp/firestore-pagination-tutorial', 19, 16, 1, 0, 0,\n",
      "       'NULL'], dtype=object), array(['iamshaunjp/bootstrap-4-playlist', 66, 90, 1, 2, 0, 'NULL'],\n",
      "      dtype=object), array(['stong/infosec-resources', 799, 72, 1, 0, 3, 'NULL'], dtype=object), array(['KrauseFx/certs', 7, 0, 1, 0, 0, 'NULL'], dtype=object), array(['KrauseFx/engagement-enhancer', 3, 0, 1, 0, 0, 'NULL'],\n",
      "      dtype=object), array(['AnirudhDagar/comments', 0, 0, 1, 0, 0, 'NULL'], dtype=object), array(['localstack/.github', 3, 2, 1, 0, 2, 'NULL'], dtype=object), array(['vaibhavdes/LearnDesignPatterns', 0, 0, 1, 0, 0, 'NULL'],\n",
      "      dtype=object), array(['AshAman999/FlutterFestival', 0, 1, 1, 0, 0, 'NULL'], dtype=object), array(['Novusvetus/StreamersMQTT', 2, 0, 1, 0, 0, 'NULL'], dtype=object), array(['taranjeet/awesome-paid-resources-free-during-covid19', 21, 1, 1,\n",
      "       0, 0, 'NULL'], dtype=object), array(['gylidian/DataStructure_Review', 27, 9, 1, 0, 0, 'NULL'],\n",
      "      dtype=object), array(['karar189/github-pages-with-jekyll', 0, 0, 1, 0, 4, 'NULL'],\n",
      "      dtype=object), array(['offensive-security/wireless-patches', 27, 17, 1, 0, 0, 'NULL'],\n",
      "      dtype=object), array(['offensive-security/gcc-arm-linux-gnueabihf-4.7', 30, 44, 1, 0, 0,\n",
      "       'NULL'], dtype=object), array(['offensive-security/kali-linux-docker-rolling', 33, 15, 1, 1, 0,\n",
      "       'NULL'], dtype=object), array(['offensive-security/kali-linux-recipes', 466, 206, 1, 1, 0, 'NULL'],\n",
      "      dtype=object), array(['offensive-security/Kali-WSL-chroot', 40, 17, 1, 1, 2, 'NULL'],\n",
      "      dtype=object), array(['joelparkerhenderson/architecture-decision-record', 0, 0, 1, 0, 26,\n",
      "       'NULL'], dtype=object), array(['sefakozan/turkce-iptv', 48, 10, 1, 1, 0, 'NULL'], dtype=object), array(['mikenikles/gitpod-minimal-custom-dockerfile', 3, 1, 1, 1, 0,\n",
      "       'NULL'], dtype=object), array(['varunKT001/git-github-hIQ-fork', 1, 1, 1, 0, 2, 'NULL'],\n",
      "      dtype=object)]\n"
     ]
    }
   ],
   "source": [
    "index11,row11 = github_dataset.get_row_index('language','NULL')\n",
    "print(row11)"
   ]
  },
  {
   "cell_type": "code",
   "execution_count": 35,
   "metadata": {},
   "outputs": [],
   "source": [
    "github_dataset.delete_row(index11)"
   ]
  },
  {
   "cell_type": "code",
   "execution_count": 36,
   "metadata": {},
   "outputs": [
    {
     "name": "stdout",
     "output_type": "stream",
     "text": [
      "0\n"
     ]
    },
    {
     "data": {
      "text/plain": [
       "0"
      ]
     },
     "execution_count": 36,
     "metadata": {},
     "output_type": "execute_result"
    }
   ],
   "source": [
    "# 删除后缺失值个数\n",
    "helper.count_none_after()"
   ]
  },
  {
   "cell_type": "code",
   "execution_count": 37,
   "metadata": {},
   "outputs": [
    {
     "data": {
      "text/plain": [
       "JavaScript          253\n",
       "Python              155\n",
       "HTML                 72\n",
       "Java                 44\n",
       "CSS                  37\n",
       "TypeScript           37\n",
       "Dart                 36\n",
       "C++                  29\n",
       "Jupyter Notebook     29\n",
       "Ruby                 28\n",
       "C                    26\n",
       "Shell                25\n",
       "PHP                  16\n",
       "Go                   15\n",
       "Rust                 10\n",
       "Swift                10\n",
       "C#                    8\n",
       "Objective-C           8\n",
       "Kotlin                7\n",
       "Makefile              6\n",
       "Jinja                 5\n",
       "SCSS                  4\n",
       "CoffeeScript          3\n",
       "Perl                  3\n",
       "Dockerfile            3\n",
       "Solidity              3\n",
       "AutoHotkey            3\n",
       "Hack                  2\n",
       "Pawn                  2\n",
       "CodeQL                2\n",
       "PowerShell            2\n",
       "Assembly              2\n",
       "Vim Script            2\n",
       "Vue                   2\n",
       "Elixir                2\n",
       "Gherkin               1\n",
       "QMake                 1\n",
       "CMake                 1\n",
       "Oz                    1\n",
       "Cuda                  1\n",
       "QML                   1\n",
       "ActionScript          1\n",
       "Roff                  1\n",
       "HCL                   1\n",
       "R                     1\n",
       "PureBasic             1\n",
       "Smarty                1\n",
       "Less                  1\n",
       "Svelte                1\n",
       "Haskell               1\n",
       "SourcePawn            1\n",
       "Name: language, dtype: int64"
      ]
     },
     "execution_count": 37,
     "metadata": {},
     "output_type": "execute_result"
    }
   ],
   "source": [
    "helper.data2['language'].value_counts()"
   ]
  },
  {
   "cell_type": "code",
   "execution_count": null,
   "metadata": {},
   "outputs": [],
   "source": []
  }
 ],
 "metadata": {
  "kernelspec": {
   "display_name": "Python 3 (ipykernel)",
   "language": "python",
   "name": "python3"
  },
  "language_info": {
   "codemirror_mode": {
    "name": "ipython",
    "version": 3
   },
   "file_extension": ".py",
   "mimetype": "text/x-python",
   "name": "python",
   "nbconvert_exporter": "python",
   "pygments_lexer": "ipython3",
   "version": "3.9.12"
  }
 },
 "nbformat": 4,
 "nbformat_minor": 2
}
